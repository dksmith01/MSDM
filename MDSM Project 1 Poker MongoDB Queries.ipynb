{
 "cells": [
  {
   "cell_type": "code",
   "execution_count": 39,
   "metadata": {
    "collapsed": true
   },
   "outputs": [],
   "source": [
    "# Establish a Pymongo connection with the MongoDB server\n",
    "from IPython.display import Image\n",
    "def get_db(db_name):\n",
    "    from pymongo import MongoClient\n",
    "    client = MongoClient('localhost:27017')\n",
    "    db = client[db_name]\n",
    "    return db\n",
    "db = get_db(\"poker\")"
   ]
  },
  {
   "cell_type": "code",
   "execution_count": 40,
   "metadata": {
    "collapsed": false
   },
   "outputs": [
    {
     "data": {
      "text/plain": [
       "{u'_id': u'holdem_199504_798260217',\n",
       " u'board': [{u'stage': u'flop', u'suit': u'hearts', u'value': u'king'},\n",
       "  {u'stage': u'flop', u'suit': u'clubs', u'value': u'6'},\n",
       "  {u'stage': u'flop', u'suit': u'hearts', u'value': u'3'}],\n",
       " u'dealer': u'5',\n",
       " u'game_type': u'holdem',\n",
       " u'hand_num': u'3473',\n",
       " u'num_players': 6,\n",
       " u'players': {u'Jhaala': {u'action': 20,\n",
       "   u'bankroll': 1990,\n",
       "   u'bet_actions': [{u'actions': [u'call'], u'stage': u'pre-flop'},\n",
       "    {u'actions': [u'bet'], u'stage': u'flop'},\n",
       "    {u'actions': [u'no action'], u'stage': u'turn'},\n",
       "    {u'actions': [u'no action'], u'stage': u'river'}],\n",
       "   u'player_cards': [],\n",
       "   u'position': 5,\n",
       "   u'username': u'Jhaala',\n",
       "   u'winnings': 35},\n",
       "  u'ab0': {u'action': 5,\n",
       "   u'bankroll': 12769,\n",
       "   u'bet_actions': [{u'actions': [u'blind bet', u'fold'],\n",
       "     u'stage': u'pre-flop'},\n",
       "    {u'actions': [u'no action'], u'stage': u'flop'},\n",
       "    {u'actions': [u'no action'], u'stage': u'turn'},\n",
       "    {u'actions': [u'no action'], u'stage': u'river'}],\n",
       "   u'player_cards': [],\n",
       "   u'position': 1,\n",
       "   u'username': u'ab0',\n",
       "   u'winnings': 0},\n",
       "  u'jaxter': {u'action': 0,\n",
       "   u'bankroll': 799,\n",
       "   u'bet_actions': [{u'actions': [u'fold'], u'stage': u'pre-flop'},\n",
       "    {u'actions': [u'no action'], u'stage': u'flop'},\n",
       "    {u'actions': [u'no action'], u'stage': u'turn'},\n",
       "    {u'actions': [u'no action'], u'stage': u'river'}],\n",
       "   u'player_cards': [],\n",
       "   u'position': 3,\n",
       "   u'username': u'jaxter',\n",
       "   u'winnings': 0},\n",
       "  u'justin-': {u'action': 0,\n",
       "   u'bankroll': 1040,\n",
       "   u'bet_actions': [{u'actions': [u'fold'], u'stage': u'pre-flop'},\n",
       "    {u'actions': [u'no action'], u'stage': u'flop'},\n",
       "    {u'actions': [u'no action'], u'stage': u'turn'},\n",
       "    {u'actions': [u'no action'], u'stage': u'river'}],\n",
       "   u'player_cards': [],\n",
       "   u'position': 6,\n",
       "   u'username': u'justin-',\n",
       "   u'winnings': 0},\n",
       "  u'perdita': {u'action': 0,\n",
       "   u'bankroll': 1280,\n",
       "   u'bet_actions': [{u'actions': [u'fold'], u'stage': u'pre-flop'},\n",
       "    {u'actions': [u'no action'], u'stage': u'flop'},\n",
       "    {u'actions': [u'no action'], u'stage': u'turn'},\n",
       "    {u'actions': [u'no action'], u'stage': u'river'}],\n",
       "   u'player_cards': [],\n",
       "   u'position': 4,\n",
       "   u'username': u'perdita',\n",
       "   u'winnings': 0},\n",
       "  u'sexsux': {u'action': 10,\n",
       "   u'bankroll': 975,\n",
       "   u'bet_actions': [{u'actions': [u'blind bet', u'check'],\n",
       "     u'stage': u'pre-flop'},\n",
       "    {u'actions': [u'check', u'fold'], u'stage': u'flop'},\n",
       "    {u'actions': [u'no action'], u'stage': u'turn'},\n",
       "    {u'actions': [u'no action'], u'stage': u'river'}],\n",
       "   u'player_cards': [],\n",
       "   u'position': 2,\n",
       "   u'username': u'sexsux',\n",
       "   u'winnings': 0}},\n",
       " u'pots': [{u'num_players': u'2', u'size': u'25', u'stage': u'flop'},\n",
       "  {u'num_players': u'0', u'size': u'0', u'stage': u'turn'},\n",
       "  {u'num_players': u'0', u'size': u'0', u'stage': u'river'},\n",
       "  {u'num_players': u'1', u'size': u'35', u'stage': u'showdown'}]}"
      ]
     },
     "execution_count": 40,
     "metadata": {},
     "output_type": "execute_result"
    }
   ],
   "source": [
    "db.hands.find_one()"
   ]
  },
  {
   "cell_type": "code",
   "execution_count": 41,
   "metadata": {
    "collapsed": false
   },
   "outputs": [
    {
     "name": "stdout",
     "output_type": "stream",
     "text": [
      "2630521\n"
     ]
    }
   ],
   "source": [
    "ct = db.hands.count()\n",
    "print ct"
   ]
  },
  {
   "cell_type": "code",
   "execution_count": 29,
   "metadata": {
    "collapsed": false
   },
   "outputs": [
    {
     "name": "stdout",
     "output_type": "stream",
     "text": [
      "Number of players: 2 Count: 144,159\n",
      "Number of players: 3 Count: 170,672\n",
      "Number of players: 4 Count: 180,811\n",
      "Number of players: 5 Count: 175,755\n",
      "Number of players: 6 Count: 195,095\n",
      "Number of players: 7 Count: 210,094\n",
      "Number of players: 8 Count: 226,620\n",
      "Number of players: 9 Count: 256,908\n",
      "Number of players: 10 Count: 399,859\n",
      "Number of players: 11 Count: 23,077\n",
      "Number of players: 12 Count: 24,325\n"
     ]
    }
   ],
   "source": [
    "pipeline = [\n",
    "    { \"$match\" : { \"board.3\" : { \"$exists\" : True }}},\n",
    "    { \"$group\" : { \"_id\": \"$num_players\",\n",
    "                  \"count\": {\"$sum\" : 1}}},\n",
    "    { \"$sort\" : { \"_id\" : 1 }}\n",
    "\n",
    "]\n",
    "agg = db.hands.aggregate(pipeline)\n",
    "for a in agg:\n",
    "    print \"Number of players: \" + \"{:,}\".format(a[\"_id\"]), \"Count: \" + \"{:,}\".format(a[\"count\"])"
   ]
  },
  {
   "cell_type": "code",
   "execution_count": 32,
   "metadata": {
    "collapsed": false
   },
   "outputs": [
    {
     "data": {
      "text/plain": [
       "0"
      ]
     },
     "execution_count": 32,
     "metadata": {},
     "output_type": "execute_result"
    }
   ],
   "source": [
    "db.hands.find({\"players.player_cards.1\":{ \"$exists\" : True }}).count()"
   ]
  },
  {
   "cell_type": "code",
   "execution_count": 31,
   "metadata": {
    "collapsed": false
   },
   "outputs": [
    {
     "data": {
      "text/plain": [
       "{u'_id': u'holdem_199504_798908096',\n",
       " u'board': [{u'stage': u'flop', u'suit': u'hearts', u'value': u'3'},\n",
       "  {u'stage': u'flop', u'suit': u'spades', u'value': u'7'},\n",
       "  {u'stage': u'flop', u'suit': u'diamonds', u'value': u'king'},\n",
       "  {u'stage': u'turn', u'suit': u'clubs', u'value': u'2'},\n",
       "  {u'stage': u'river', u'suit': u'clubs', u'value': u'7'}],\n",
       " u'dealer': u'5',\n",
       " u'game_type': u'holdem',\n",
       " u'hand_num': u'11775',\n",
       " u'num_players': 3,\n",
       " u'players': {u'alfalfa': {u'action': 10,\n",
       "   u'bankroll': 483,\n",
       "   u'bet_actions': [{u'actions': [u'blind bet', u'call'],\n",
       "     u'stage': u'pre-flop'},\n",
       "    {u'actions': [u'check'], u'stage': u'flop'},\n",
       "    {u'actions': [u'check'], u'stage': u'turn'},\n",
       "    {u'actions': [u'check'], u'stage': u'river'}],\n",
       "   u'player_cards': [{u'suit': u'diamonds', u'value': u'jack'},\n",
       "    {u'suit': u'diamonds', u'value': u'6'}],\n",
       "   u'position': 1,\n",
       "   u'username': u'alfalfa',\n",
       "   u'winnings': 0},\n",
       "  u'bluftru': {u'action': 0,\n",
       "   u'bankroll': 1260,\n",
       "   u'bet_actions': [{u'actions': [u'fold'], u'stage': u'pre-flop'},\n",
       "    {u'actions': [u'no action'], u'stage': u'flop'},\n",
       "    {u'actions': [u'no action'], u'stage': u'turn'},\n",
       "    {u'actions': [u'no action'], u'stage': u'river'}],\n",
       "   u'player_cards': [],\n",
       "   u'position': 3,\n",
       "   u'username': u'bluftru',\n",
       "   u'winnings': 0},\n",
       "  u'perfecto': {u'action': 10,\n",
       "   u'bankroll': 7464,\n",
       "   u'bet_actions': [{u'actions': [u'blind bet', u'check'],\n",
       "     u'stage': u'pre-flop'},\n",
       "    {u'actions': [u'check'], u'stage': u'flop'},\n",
       "    {u'actions': [u'check'], u'stage': u'turn'},\n",
       "    {u'actions': [u'check'], u'stage': u'river'}],\n",
       "   u'player_cards': [{u'suit': u'hearts', u'value': u'queen'},\n",
       "    {u'suit': u'hearts', u'value': u'2'}],\n",
       "   u'position': 2,\n",
       "   u'username': u'perfecto',\n",
       "   u'winnings': 20}},\n",
       " u'pots': [{u'num_players': u'2', u'size': u'20', u'stage': u'flop'},\n",
       "  {u'num_players': u'2', u'size': u'20', u'stage': u'turn'},\n",
       "  {u'num_players': u'2', u'size': u'20', u'stage': u'river'},\n",
       "  {u'num_players': u'2', u'size': u'20', u'stage': u'showdown'}]}"
      ]
     },
     "execution_count": 31,
     "metadata": {},
     "output_type": "execute_result"
    }
   ],
   "source": [
    "db.hands.find_one({\".4\":{ \"$exists\" : True }})"
   ]
  },
  {
   "cell_type": "code",
   "execution_count": null,
   "metadata": {
    "collapsed": false
   },
   "outputs": [],
   "source": []
  },
  {
   "cell_type": "code",
   "execution_count": null,
   "metadata": {
    "collapsed": true
   },
   "outputs": [],
   "source": []
  }
 ],
 "metadata": {
  "kernelspec": {
   "display_name": "Python 2",
   "language": "python",
   "name": "python2"
  },
  "language_info": {
   "codemirror_mode": {
    "name": "ipython",
    "version": 2
   },
   "file_extension": ".py",
   "mimetype": "text/x-python",
   "name": "python",
   "nbconvert_exporter": "python",
   "pygments_lexer": "ipython2",
   "version": "2.7.10"
  }
 },
 "nbformat": 4,
 "nbformat_minor": 0
}
