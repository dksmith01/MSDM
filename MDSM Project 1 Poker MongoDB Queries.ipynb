{
 "cells": [
  {
   "cell_type": "code",
   "execution_count": 1,
   "metadata": {
    "collapsed": true
   },
   "outputs": [],
   "source": [
    "# Establish a Pymongo connection with the MongoDB server\n",
    "from IPython.display import Image\n",
    "def get_db(db_name):\n",
    "    from pymongo import MongoClient\n",
    "    client = MongoClient('localhost:27017')\n",
    "    db = client[db_name]\n",
    "    return db\n",
    "db = get_db(\"poker\")"
   ]
  },
  {
   "cell_type": "code",
   "execution_count": 2,
   "metadata": {
    "collapsed": false
   },
   "outputs": [
    {
     "data": {
      "text/plain": [
       "{u'_id': u'holdem_199504_798908096',\n",
       " u'board': [u'3h', u'7s', u'Kd', u'2c', u'7c'],\n",
       " u'dealer': 5,\n",
       " u'game_type': u'holdem',\n",
       " u'hand_num': 11775,\n",
       " u'num_players': 3,\n",
       " u'players': [{u'action': 10,\n",
       "   u'bankroll': 483,\n",
       "   u'bet_actions': [{u'actions': [u'blind bet', u'call'],\n",
       "     u'stage': u'pre-flop'},\n",
       "    {u'actions': [u'check'], u'stage': u'flop'},\n",
       "    {u'actions': [u'check'], u'stage': u'turn'},\n",
       "    {u'actions': [u'check'], u'stage': u'river'}],\n",
       "   u'player_cards': [u'Jd', u'6d'],\n",
       "   u'position': 1,\n",
       "   u'username': u'alfalfa',\n",
       "   u'winnings': 0},\n",
       "  {u'action': 0,\n",
       "   u'bankroll': 1260,\n",
       "   u'bet_actions': [{u'actions': [u'fold'], u'stage': u'pre-flop'},\n",
       "    {u'actions': [u'no action'], u'stage': u'flop'},\n",
       "    {u'actions': [u'no action'], u'stage': u'turn'},\n",
       "    {u'actions': [u'no action'], u'stage': u'river'}],\n",
       "   u'player_cards': [],\n",
       "   u'position': 3,\n",
       "   u'username': u'bluftru',\n",
       "   u'winnings': 0},\n",
       "  {u'action': 10,\n",
       "   u'bankroll': 7464,\n",
       "   u'bet_actions': [{u'actions': [u'blind bet', u'check'],\n",
       "     u'stage': u'pre-flop'},\n",
       "    {u'actions': [u'check'], u'stage': u'flop'},\n",
       "    {u'actions': [u'check'], u'stage': u'turn'},\n",
       "    {u'actions': [u'check'], u'stage': u'river'}],\n",
       "   u'player_cards': [u'Qh', u'2h'],\n",
       "   u'position': 2,\n",
       "   u'username': u'perfecto',\n",
       "   u'winnings': 20}],\n",
       " u'pots': [{u'num_players': 2, u'size': 20, u'stage': u'flop'},\n",
       "  {u'num_players': 2, u'size': 20, u'stage': u'turn'},\n",
       "  {u'num_players': 2, u'size': 20, u'stage': u'river'},\n",
       "  {u'num_players': 2, u'size': 20, u'stage': u'showdown'}]}"
      ]
     },
     "execution_count": 2,
     "metadata": {},
     "output_type": "execute_result"
    }
   ],
   "source": [
    "db.hands.find_one()"
   ]
  },
  {
   "cell_type": "code",
   "execution_count": 3,
   "metadata": {
    "collapsed": false
   },
   "outputs": [
    {
     "name": "stdout",
     "output_type": "stream",
     "text": [
      "2676657\n"
     ]
    }
   ],
   "source": [
    "ct = db.hands.count()\n",
    "print ct"
   ]
  },
  {
   "cell_type": "code",
   "execution_count": 4,
   "metadata": {
    "collapsed": false
   },
   "outputs": [
    {
     "name": "stdout",
     "output_type": "stream",
     "text": [
      "Number of players: 2 Count: 145,388\n",
      "Number of players: 3 Count: 172,845\n",
      "Number of players: 4 Count: 182,631\n",
      "Number of players: 5 Count: 178,101\n",
      "Number of players: 6 Count: 197,992\n",
      "Number of players: 7 Count: 214,211\n",
      "Number of players: 8 Count: 231,798\n",
      "Number of players: 9 Count: 263,970\n",
      "Number of players: 10 Count: 411,345\n",
      "Number of players: 11 Count: 23,077\n",
      "Number of players: 12 Count: 24,325\n"
     ]
    }
   ],
   "source": [
    "pipeline = [\n",
    "    { \"$match\" : { \"board.3\" : { \"$exists\" : True }}},\n",
    "    { \"$group\" : { \"_id\": \"$num_players\",\n",
    "                  \"count\": {\"$sum\" : 1}}},\n",
    "    { \"$sort\" : { \"_id\" : 1 }}\n",
    "\n",
    "]\n",
    "agg = db.hands.aggregate(pipeline)\n",
    "for a in agg:\n",
    "    print \"Number of players: \" + \"{:,}\".format(a[\"_id\"]), \"Count: \" + \"{:,}\".format(a[\"count\"])"
   ]
  },
  {
   "cell_type": "code",
   "execution_count": 7,
   "metadata": {
    "collapsed": false
   },
   "outputs": [
    {
     "name": "stdout",
     "output_type": "stream",
     "text": [
      "2 83312\n",
      "3 8691\n",
      "4 1328\n",
      "5 228\n",
      "6 35\n",
      "7 11\n",
      "10 5\n"
     ]
    }
   ],
   "source": [
    "pipeline = [\n",
    "    { \"$match\" : { \"players.player_cards\" : { \"$ne\" : [] }}},\n",
    "    { \"$group\" : { \"_id\": \"$num_players\",\n",
    "                  \"count\": {\"$sum\" : 1}}},\n",
    "    { \"$sort\" : { \"_id\" : 1 }}\n",
    "\n",
    "]\n",
    "agg = db.hands.aggregate(pipeline)\n",
    "for a in agg:\n",
    "    print a[\"_id\"], a[\"count\"]"
   ]
  },
  {
   "cell_type": "code",
   "execution_count": null,
   "metadata": {
    "collapsed": false
   },
   "outputs": [],
   "source": []
  },
  {
   "cell_type": "code",
   "execution_count": null,
   "metadata": {
    "collapsed": false
   },
   "outputs": [],
   "source": []
  },
  {
   "cell_type": "code",
   "execution_count": null,
   "metadata": {
    "collapsed": true
   },
   "outputs": [],
   "source": []
  }
 ],
 "metadata": {
  "kernelspec": {
   "display_name": "Python 2",
   "language": "python",
   "name": "python2"
  },
  "language_info": {
   "codemirror_mode": {
    "name": "ipython",
    "version": 2
   },
   "file_extension": ".py",
   "mimetype": "text/x-python",
   "name": "python",
   "nbconvert_exporter": "python",
   "pygments_lexer": "ipython2",
   "version": "2.7.10"
  }
 },
 "nbformat": 4,
 "nbformat_minor": 0
}
