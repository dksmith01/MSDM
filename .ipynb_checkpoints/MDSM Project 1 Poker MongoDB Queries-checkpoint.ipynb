{
 "cells": [
  {
   "cell_type": "code",
   "execution_count": 1,
   "metadata": {
    "collapsed": false
   },
   "outputs": [],
   "source": [
    "# Establish a Pymongo connection with the MongoDB server\n",
    "from IPython.display import Image\n",
    "def get_db(db_name):\n",
    "    from pymongo import MongoClient\n",
    "    client = MongoClient('localhost:27017')\n",
    "    db = client[db_name]\n",
    "    return db\n",
    "db = get_db(\"poker\")"
   ]
  },
  {
   "cell_type": "code",
   "execution_count": 2,
   "metadata": {
    "collapsed": false
   },
   "outputs": [
    {
     "data": {
      "text/plain": [
       "{u'_id': u'holdem_199504_798908096',\n",
       " u'board': [u'3h', u'7s', u'Kd', u'2c', u'7c'],\n",
       " u'dealer': 5,\n",
       " u'game_type': u'holdem',\n",
       " u'hand_num': 11775,\n",
       " u'num_players': 3,\n",
       " u'players': [{u'action': 10,\n",
       "   u'bankroll': 483,\n",
       "   u'bet_actions': [{u'actions': [u'blind bet', u'call'],\n",
       "     u'stage': u'pre-flop'},\n",
       "    {u'actions': [u'check'], u'stage': u'flop'},\n",
       "    {u'actions': [u'check'], u'stage': u'turn'},\n",
       "    {u'actions': [u'check'], u'stage': u'river'}],\n",
       "   u'player_cards': [u'Jd', u'6d'],\n",
       "   u'position': 1,\n",
       "   u'username': u'alfalfa',\n",
       "   u'winnings': 0},\n",
       "  {u'action': 0,\n",
       "   u'bankroll': 1260,\n",
       "   u'bet_actions': [{u'actions': [u'fold'], u'stage': u'pre-flop'},\n",
       "    {u'actions': [u'no action'], u'stage': u'flop'},\n",
       "    {u'actions': [u'no action'], u'stage': u'turn'},\n",
       "    {u'actions': [u'no action'], u'stage': u'river'}],\n",
       "   u'player_cards': [],\n",
       "   u'position': 3,\n",
       "   u'username': u'bluftru',\n",
       "   u'winnings': 0},\n",
       "  {u'action': 10,\n",
       "   u'bankroll': 7464,\n",
       "   u'bet_actions': [{u'actions': [u'blind bet', u'check'],\n",
       "     u'stage': u'pre-flop'},\n",
       "    {u'actions': [u'check'], u'stage': u'flop'},\n",
       "    {u'actions': [u'check'], u'stage': u'turn'},\n",
       "    {u'actions': [u'check'], u'stage': u'river'}],\n",
       "   u'player_cards': [u'Qh', u'2h'],\n",
       "   u'position': 2,\n",
       "   u'username': u'perfecto',\n",
       "   u'winnings': 20}],\n",
       " u'pots': [{u'num_players': 2, u'size': 20, u'stage': u'flop'},\n",
       "  {u'num_players': 2, u'size': 20, u'stage': u'turn'},\n",
       "  {u'num_players': 2, u'size': 20, u'stage': u'river'},\n",
       "  {u'num_players': 2, u'size': 20, u'stage': u'showdown'}]}"
      ]
     },
     "execution_count": 2,
     "metadata": {},
     "output_type": "execute_result"
    }
   ],
   "source": [
    "db.hands.find_one()"
   ]
  },
  {
   "cell_type": "code",
   "execution_count": 3,
   "metadata": {
    "collapsed": false
   },
   "outputs": [
    {
     "name": "stdout",
     "output_type": "stream",
     "text": [
      "2676657\n"
     ]
    }
   ],
   "source": [
    "ct = db.hands.count()\n",
    "print ct"
   ]
  },
  {
   "cell_type": "code",
   "execution_count": 5,
   "metadata": {
    "collapsed": false
   },
   "outputs": [
    {
     "name": "stdout",
     "output_type": "stream",
     "text": [
      "Number of players: 2 Count: 145,388\n",
      "Number of players: 3 Count: 172,845\n",
      "Number of players: 4 Count: 182,631\n",
      "Number of players: 5 Count: 178,101\n",
      "Number of players: 6 Count: 197,992\n",
      "Number of players: 7 Count: 214,211\n",
      "Number of players: 8 Count: 231,798\n",
      "Number of players: 9 Count: 263,970\n",
      "Number of players: 10 Count: 411,345\n",
      "Number of players: 11 Count: 23,077\n",
      "Number of players: 12 Count: 24,325\n"
     ]
    }
   ],
   "source": [
    "# Question: How many hands exist for different numbers of players?\n",
    "pipeline = [\n",
    "    { \"$match\" : { \"board.3\" : { \"$exists\" : True }}},\n",
    "    { \"$group\" : { \"_id\": \"$num_players\",\n",
    "                  \"count\": {\"$sum\" : 1}}},\n",
    "    { \"$sort\" : { \"_id\" : 1 }}\n",
    "\n",
    "]\n",
    "agg = db.hands.aggregate(pipeline)\n",
    "for a in agg:\n",
    "    print \"Number of players: \" + \"{:,}\".format(a[\"_id\"]), \"Count: \" + \"{:,}\".format(a[\"count\"])"
   ]
  },
  {
   "cell_type": "code",
   "execution_count": 11,
   "metadata": {
    "collapsed": false
   },
   "outputs": [
    {
     "name": "stdout",
     "output_type": "stream",
     "text": [
      "Number of players: 2 Count: 84,000\n",
      "Number of players: 3 Count: 102,938\n",
      "Number of players: 4 Count: 112,802\n",
      "Number of players: 5 Count: 113,921\n",
      "Number of players: 6 Count: 131,092\n",
      "Number of players: 7 Count: 146,775\n",
      "Number of players: 8 Count: 163,564\n",
      "Number of players: 9 Count: 191,645\n",
      "Number of players: 10 Count: 308,023\n",
      "Number of players: 11 Count: 17,207\n",
      "Number of players: 12 Count: 18,520\n",
      "Seconds to process: 308\n"
     ]
    }
   ],
   "source": [
    "# Question: How many hands exist where we know at least one player's cards, grouped and sorted by number of players\n",
    "import time\n",
    "t_start = time.time()\n",
    "pipeline = [\n",
    "    { \"$unwind\" : \"$players\" },\n",
    "    { \"$match\" : { \"players.player_cards\" : { \"$ne\" : [] }}},\n",
    "    { \"$group\" : { \"_id\": \"$_id\",\n",
    "                 \"num_players\": { \"$max\": \"$num_players\" }}},   \n",
    "    { \"$group\" : { \"_id\": \"$num_players\",\n",
    "                  \"count\": {\"$sum\" : 1}}},\n",
    "    { \"$sort\" : { \"_id\" : 1 }}\n",
    "\n",
    "]\n",
    "option = {\"allowDiskUse\" : \"true\"}\n",
    "agg = db.hands.aggregate(pipeline, allowDiskUse=True)\n",
    "for a in agg:\n",
    "    print \"Number of players: \" + \"{:,}\".format(a[\"_id\"]), \"Count: \" + \"{:,}\".format(a[\"count\"])\n",
    "t_end = time.time()\n",
    "print \"Seconds to process: \" + \"{:,}\".format(int(t_end - t_start))"
   ]
  },
  {
   "cell_type": "code",
   "execution_count": 15,
   "metadata": {
    "collapsed": false,
    "scrolled": false
   },
   "outputs": [
    {
     "name": "stdout",
     "output_type": "stream",
     "text": [
      "Username: kfish, Hands won: 22,183\n",
      "Username: kwAAkbot, Hands won: 13,586\n",
      "Username: Funky, Hands won: 11,815\n",
      "Username: r00lbot, Hands won: 11,617\n",
      "Username: Muck, Hands won: 11,198\n",
      "Username: lokibot, Hands won: 8,642\n",
      "Username: Travis, Hands won: 7,945\n",
      "Username: Quick, Hands won: 7,930\n",
      "Username: going, Hands won: 7,867\n",
      "Username: Sonar, Hands won: 7,608\n",
      "Username: is314onu, Hands won: 7,444\n",
      "Username: loki, Hands won: 6,805\n",
      "Username: MetroPam, Hands won: 6,798\n",
      "Username: RiverRatt, Hands won: 6,764\n",
      "Username: alfalfa, Hands won: 6,715\n",
      "Username: coming, Hands won: 6,654\n",
      "Username: edge, Hands won: 6,625\n",
      "Username: show, Hands won: 6,585\n",
      "Username: Calvert, Hands won: 6,548\n",
      "Username: lynn, Hands won: 6,533\n",
      "Username: CityPam, Hands won: 6,432\n",
      "Username: loki2c, Hands won: 6,319\n",
      "Username: SheDevil, Hands won: 6,182\n",
      "Username: Grizz, Hands won: 6,152\n",
      "Username: sagerbot, Hands won: 6,084\n",
      "Seconds to process: 290\n"
     ]
    }
   ],
   "source": [
    "# Question: Who are the top 25 most frequent winners?\n",
    "t_start = time.time()\n",
    "pipeline = [\n",
    "    { \"$unwind\" : \"$players\" },\n",
    "    { \"$match\" : { \"players.winnings\" : { \"$gt\" : 0 }}},\n",
    "    { \"$group\" : { \"_id\": \"$players.username\",\n",
    "                 \"hands_won\": { \"$sum\": 1 }}},\n",
    "    { \"$sort\" : { \"hands_won\" : -1 }},\n",
    "    { \"$limit\" : 25 }\n",
    "]\n",
    "winners = db.hands.aggregate(pipeline, allowDiskUse=True)\n",
    "for w in winners:\n",
    "    print \"Username: \" + w[\"_id\"] + \", Hands won: \" + \"{:,}\".format(w[\"hands_won\"])\n",
    "t_end = time.time()\n",
    "print \"Seconds to process: \" + \"{:,}\".format(int(t_end - t_start))\n"
   ]
  },
  {
   "cell_type": "code",
   "execution_count": 14,
   "metadata": {
    "collapsed": false
   },
   "outputs": [
    {
     "name": "stdout",
     "output_type": "stream",
     "text": [
      "Username: JESUS, Hands played: 140\n",
      "Seconds to process: 288\n"
     ]
    }
   ],
   "source": [
    "# Question: What's the deal with this guy Chris \"JESUS\" Ferguson?\n",
    "t_start = time.time()\n",
    "pipeline = [\n",
    "    { \"$unwind\" : \"$players\" },\n",
    "    { \"$match\" : { \"players.username\" : \"JESUS\" }},\n",
    "    { \"$group\" : { \"_id\": \"$players.username\",\n",
    "                 \"hands_played\": { \"$sum\": 1 }}}\n",
    "]\n",
    "jesus = db.hands.aggregate(pipeline, allowDiskUse=True)\n",
    "for j in jesus:\n",
    "    print \"Username: \" + j[\"_id\"] + \", Hands played: \" + \"{:,}\".format(j[\"hands_played\"])\n",
    "t_end = time.time()\n",
    "print \"Seconds to process: \" + \"{:,}\".format(int(t_end - t_start))"
   ]
  },
  {
   "cell_type": "code",
   "execution_count": 19,
   "metadata": {
    "collapsed": false
   },
   "outputs": [
    {
     "name": "stdout",
     "output_type": "stream",
     "text": [
      "<pymongo.cursor.Cursor object at 0x1063fcd10>\n",
      "Number of hands JESUS played: 0\n",
      "Seconds to process: 83\n"
     ]
    }
   ],
   "source": [
    "# Let's try the Jesus question another (faster?) way:\n",
    "t_start = time.time()\n",
    "query = { \"players\" : { \"username\" : \"JESUS\" } }\n",
    "jesus = db.hands.find(query)\n",
    "print jesus\n",
    "i = 0\n",
    "for j in jesus:\n",
    "    i = i + 1\n",
    "print \"Number of hands JESUS played: \" + \"{:,}\".format(i)\n",
    "t_end = time.time()\n",
    "print \"Seconds to process: \" + \"{:,}\".format(int(t_end - t_start))"
   ]
  },
  {
   "cell_type": "code",
   "execution_count": null,
   "metadata": {
    "collapsed": true
   },
   "outputs": [],
   "source": []
  }
 ],
 "metadata": {
  "kernelspec": {
   "display_name": "Python 2",
   "language": "python",
   "name": "python2"
  },
  "language_info": {
   "codemirror_mode": {
    "name": "ipython",
    "version": 2
   },
   "file_extension": ".py",
   "mimetype": "text/x-python",
   "name": "python",
   "nbconvert_exporter": "python",
   "pygments_lexer": "ipython2",
   "version": "2.7.10"
  }
 },
 "nbformat": 4,
 "nbformat_minor": 0
}
